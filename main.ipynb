{
 "cells": [
  {
   "cell_type": "markdown",
   "metadata": {},
   "source": [
    "# Human Recognition System"
   ]
  },
  {
   "cell_type": "code",
   "execution_count": null,
   "metadata": {},
   "outputs": [],
   "source": [
    "import cv2 as cv\n",
    "import numpy as np\n",
    "import os\n",
    "import face_recognition\n",
    "import speech_recognition as sr\n",
    "import webbrowser as wb"
   ]
  },
  {
   "cell_type": "markdown",
   "metadata": {},
   "source": [
    "# voice Detection"
   ]
  },
  {
   "cell_type": "code",
   "execution_count": null,
   "metadata": {},
   "outputs": [],
   "source": [
    "def main():\n",
    "    r = sr.Recognizer()\n",
    "\n",
    "    with sr.Microphone() as source:\n",
    "        r.adjust_for_ambient_noise(source)\n",
    "\n",
    "        print(\"Please Say Your Name: \")\n",
    "\n",
    "        audio = r.listen(source)\n",
    "\n",
    "        print(\"Recognizing Now .... \")\n",
    "\n",
    "        # recognize speech using google\n",
    "\n",
    "        try:\n",
    "            print(\"You have said \\n\" + r.recognize_google(audio))\n",
    "            print(\"Audio Recorded Successfully \\n \")\n",
    "\n",
    "\n",
    "        except Exception as e:\n",
    "            print(\"Error :  Voice is not Cleared plzz speak again....\\n\")\n",
    "            \n",
    "        # write audio\n",
    "        with open(\"voice_database/recorded.wav\", \"wb\") as f:\n",
    "            f.write(audio.get_wav_data())\n",
    "        return r.recognize_google(audio)\n",
    "\n",
    "name=main()"
   ]
  },
  {
   "cell_type": "markdown",
   "metadata": {},
   "source": [
    "## Add a New User"
   ]
  },
  {
   "cell_type": "code",
   "execution_count": null,
   "metadata": {},
   "outputs": [],
   "source": [
    "img_dir = r'C:\\Users\\HP\\jupyterProjects\\face-recognition-system\\face_database'\n",
    "os.chdir(img_dir)\n",
    "\n",
    "# used to capture an image.\n",
    "cam = cv.VideoCapture(0)\n",
    "\n",
    "cv.namedWindow(\"web cam\")\n",
    "\n",
    "img_counter = 0\n",
    "\n",
    "while True:\n",
    "    ret, frame = cam.read()\n",
    "    if not ret:\n",
    "        print(\"failed to grab frame\")\n",
    "        break\n",
    "    cv.imshow(\"web cam\", frame)\n",
    "\n",
    "    k = cv.waitKey(1)\n",
    "    if k%256 == 27:\n",
    "        # ESC pressed`\n",
    "        print(\"Escape hit, closing...\")\n",
    "        break\n",
    "    elif k%256 == 32:\n",
    "        # SPACE pressed\n",
    "        img_name = f\"{name}_{img_counter}.png\"\n",
    "        cv.imwrite(img_name, frame)\n",
    "        print(\"{} written!\".format(img_name))\n",
    "        img_counter += 1\n",
    "\n",
    "cam.release()\n",
    "cv.destroyAllWindows()"
   ]
  },
  {
   "cell_type": "markdown",
   "metadata": {},
   "source": [
    "# FACIAL ENCODING"
   ]
  },
  {
   "cell_type": "code",
   "execution_count": null,
   "metadata": {},
   "outputs": [],
   "source": [
    "os.chdir(r'C:\\Users\\HP\\jupyterProjects\\face-recognition-system')\n",
    "path = r'face_database'\n",
    "images = []\n",
    "classNames = []\n",
    "mylist = os.listdir(path)\n",
    "\n",
    "\n",
    "for cl in mylist:\n",
    "    curImg = cv.imread(f'{path}/{cl}')\n",
    "    images.append(curImg)\n",
    "    classNames.append(os.path.splitext(cl)[0])\n",
    "\n",
    "\n",
    "def findencodings(images):\n",
    "    encodelist = []\n",
    "    for img in images:\n",
    "        img = cv.cvtColor(img, cv.COLOR_BGR2RGB)\n",
    "        encode = face_recognition.face_encodings(img)[0]\n",
    "        encodelist.append(encode)\n",
    "    return encodelist\n",
    "\n",
    "\n",
    "encodeListKnown = findencodings(images)\n",
    "print('Encoding Complete..')\n",
    "print('Total Encoded Elements: ', len(encodeListKnown))"
   ]
  },
  {
   "cell_type": "markdown",
   "metadata": {},
   "source": [
    "# FACE CLASSIFICATION"
   ]
  },
  {
   "cell_type": "code",
   "execution_count": null,
   "metadata": {},
   "outputs": [],
   "source": [
    "cap = cv.VideoCapture(0)\n",
    "\n",
    "while True:\n",
    "    success, img = cap.read()\n",
    "    imgS = cv.resize(img, (0, 0), None, 0.25, 0.25)\n",
    "    imgS = cv.cvtColor(imgS, cv.COLOR_BGR2RGB)\n",
    "    facesCurFrame = face_recognition.face_locations(imgS)\n",
    "    encodeCurFrame = face_recognition.face_encodings(imgS, facesCurFrame)\n",
    "\n",
    "    for encodeFace, faceLoc in zip(encodeCurFrame, facesCurFrame):\n",
    "        matches = face_recognition.compare_faces(encodeListKnown, encodeFace)\n",
    "        faceDis = face_recognition.face_distance(encodeListKnown, encodeFace)\n",
    "        matchIndex = np.argmin(faceDis)\n",
    "\n",
    "        if matches[matchIndex]:\n",
    "            name = classNames[matchIndex].upper()\n",
    "            y1, x2, y2, x1 = faceLoc\n",
    "            y1, x2, y2, x1 = y1 * 4, x2 * 4, y2 * 4, x1 * 4\n",
    "            cv.rectangle(img, (x1, y1), (x2, y2), (0, 255, 0), 2)\n",
    "            cv.rectangle(img, (x1, y2 - 35), (x2, y2), (0, 255, 0), cv.FILLED)\n",
    "            cv.putText(img, name, (x1 + 6, y2 - 6), cv.FONT_HERSHEY_COMPLEX, 1, (255, 255, 255), 2)\n",
    "    cv.imshow('webcam', img)\n",
    "    k = cv.waitKey(1)\n",
    "    if k%256 == 27:\n",
    "        # ESC pressed`\n",
    "        print(\"Escape hit, closing...\")\n",
    "        break\n",
    "\n",
    "cap.release()\n",
    "cv.destroyAllWindows()"
   ]
  },
  {
   "cell_type": "code",
   "execution_count": null,
   "metadata": {},
   "outputs": [],
   "source": []
  }
 ],
 "metadata": {
  "kernelspec": {
   "display_name": "Python 3",
   "language": "python",
   "name": "python3"
  },
  "language_info": {
   "codemirror_mode": {
    "name": "ipython",
    "version": 3
   },
   "file_extension": ".py",
   "mimetype": "text/x-python",
   "name": "python",
   "nbconvert_exporter": "python",
   "pygments_lexer": "ipython3",
   "version": "3.9.5"
  }
 },
 "nbformat": 4,
 "nbformat_minor": 2
}
